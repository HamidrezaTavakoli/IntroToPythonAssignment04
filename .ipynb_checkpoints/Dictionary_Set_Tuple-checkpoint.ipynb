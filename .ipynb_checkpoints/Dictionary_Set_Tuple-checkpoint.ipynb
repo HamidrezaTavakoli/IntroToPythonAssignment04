{
 "cells": [
  {
   "cell_type": "code",
   "execution_count": 5,
   "metadata": {},
   "outputs": [
    {
     "name": "stdout",
     "output_type": "stream",
     "text": [
      "Dictionary : A collection of key-value pairs.\n",
      "String : A series of characters.\n",
      "Boolean Expression : An expression that evaluates to True or False.\n",
      "Comment : A note in a program that the Python interpreter ignores.\n",
      "Value : An item associated with a key in a dictionary.\n",
      "Loop : Work through a collection of items, one at a time.\n",
      "List : A collection of items in a particular order.\n",
      "Key : The first item in a key-value pair in a dictionary.\n",
      "Float : A numerical value with a decimal component.\n"
     ]
    }
   ],
   "source": [
    "dict = {\"Dictionary\": \"A collection of key-value pairs.\",\"String\": \"A series of characters.\",\"Boolean Expression\": \"An expression that evaluates to True or False.\",\"Comment\": \"A note in a program that the Python interpreter ignores.\",\"Value\": \"An item associated with a key in a dictionary.\",\"Loop\": \"Work through a collection of items, one at a time.\",\"List\": \"A collection of items in a particular order.\",\"Key\": \"The first item in a key-value pair in a dictionary.\",\"Float\": \"A numerical value with a decimal component.\"}\n",
    "for key in dict.keys():\n",
    "    print(\"{} : {}\".format(key,dict[key]))\n"
   ]
  },
  {
   "cell_type": "code",
   "execution_count": 12,
   "metadata": {},
   "outputs": [
    {
     "name": "stdout",
     "output_type": "stream",
     "text": [
      "{'Lord of the Rings'}\n",
      "{'There Will Be Blood', 'Cast away', 'Terminator 2', 'Harry Potter'}\n"
     ]
    }
   ],
   "source": [
    "hamidMovieSet = set([\"Harry Potter\", \"Lord of the Rings\", \"There Will Be Blood\", \"Terminator 2\", \"Cast away\"])\n",
    "aylaMovieSet = set([\"Lord of the Rings\",\"Shawshank Redemption\",\"Titanic\", \"Aliens\",\"Star wars\"])\n",
    "common = hamidMovieSet.intersection(aylaMovieSet)\n",
    "print(common)\n",
    "different = hamidMovieSet.difference(aylaMovieSet)\n",
    "print(different)\n"
   ]
  },
  {
   "cell_type": "code",
   "execution_count": 14,
   "metadata": {},
   "outputs": [
    {
     "name": "stdout",
     "output_type": "stream",
     "text": [
      "wakeup\n",
      "run\n",
      "eat breakfast\n",
      "go to work\n",
      "eat lunch\n",
      "go home\n",
      "read\n",
      "go to sleep\n"
     ]
    }
   ],
   "source": [
    "activityTuple = (\"wake up\",\"run\",\"eat breakfast\", \"go to work\", \"eat lunch\",\"go home\",\"read\",\"go to sleep\")\n",
    "for elem in activityTuple:\n",
    "    print(elem)"
   ]
  },
  {
   "cell_type": "code",
   "execution_count": null,
   "metadata": {},
   "outputs": [],
   "source": []
  }
 ],
 "metadata": {
  "kernelspec": {
   "display_name": "Python 3",
   "language": "python",
   "name": "python3"
  },
  "language_info": {
   "codemirror_mode": {
    "name": "ipython",
    "version": 3
   },
   "file_extension": ".py",
   "mimetype": "text/x-python",
   "name": "python",
   "nbconvert_exporter": "python",
   "pygments_lexer": "ipython3",
   "version": "3.6.4"
  }
 },
 "nbformat": 4,
 "nbformat_minor": 2
}
